{
 "cells": [
  {
   "cell_type": "markdown",
   "metadata": {},
   "source": [
    "# I'm so happy to start python class with static type"
   ]
  },
  {
   "cell_type": "code",
   "execution_count": 1,
   "metadata": {},
   "outputs": [
    {
     "name": "stdout",
     "output_type": "stream",
     "text": [
      "hello world\n",
      "Zinda bad\n",
      "Zinda bad\n",
      "Zinda bad\n",
      "Zinda bad\n"
     ]
    }
   ],
   "source": [
    "print('hello world')\n",
    "print('Zinda bad')\n",
    "print('Zinda bad')\n",
    "print('Zinda bad')\n",
    "print('Zinda bad')"
   ]
  },
  {
   "cell_type": "code",
   "execution_count": 2,
   "metadata": {},
   "outputs": [
    {
     "name": "stdout",
     "output_type": "stream",
     "text": [
      "Zinda bad abc\n",
      "Zinda bad 7\n",
      "Zinda bad 8\n",
      "Zinda bad 900\n",
      "Zinda bad 10\n"
     ]
    }
   ],
   "source": [
    "print('Zinda bad abc')\n",
    "print('Zinda bad 7')\n",
    "print('Zinda bad 8')\n",
    "print('Zinda bad 900')\n",
    "print('Zinda bad 10')"
   ]
  }
 ],
 "metadata": {
  "kernelspec": {
   "display_name": "python12",
   "language": "python",
   "name": "python3"
  },
  "language_info": {
   "codemirror_mode": {
    "name": "ipython",
    "version": 3
   },
   "file_extension": ".py",
   "mimetype": "text/x-python",
   "name": "python",
   "nbconvert_exporter": "python",
   "pygments_lexer": "ipython3",
   "version": "3.12.0"
  }
 },
 "nbformat": 4,
 "nbformat_minor": 2
}
