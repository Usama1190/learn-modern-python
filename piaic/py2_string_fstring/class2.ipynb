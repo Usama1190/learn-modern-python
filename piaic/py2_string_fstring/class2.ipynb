{
 "cells": [
  {
   "cell_type": "markdown",
   "metadata": {},
   "source": [
    "# String Data type in python"
   ]
  },
  {
   "cell_type": "code",
   "execution_count": null,
   "metadata": {},
   "outputs": [],
   "source": [
    "# boundaries\n",
    "# 'string text', \"string text\", '''string text''', \"\"\"string text \"\"\"\n",
    "# `string text` type string"
   ]
  },
  {
   "cell_type": "code",
   "execution_count": null,
   "metadata": {},
   "outputs": [
    {
     "name": "stdout",
     "output_type": "stream",
     "text": [
      "My name is usama israr\n",
      "8\n"
     ]
    }
   ],
   "source": [
    "student_name: str = \"\"\" \n",
    "print('My name is usama israr')\n",
    "a: int = 3\n",
    "b: int = 5\n",
    "\n",
    "print(a + b)\n",
    "\n",
    "\"\"\"\n",
    "exec(student_name)"
   ]
  }
 ],
 "metadata": {
  "kernelspec": {
   "display_name": "python12",
   "language": "python",
   "name": "python3"
  },
  "language_info": {
   "codemirror_mode": {
    "name": "ipython",
    "version": 3
   },
   "file_extension": ".py",
   "mimetype": "text/x-python",
   "name": "python",
   "nbconvert_exporter": "python",
   "pygments_lexer": "ipython3",
   "version": "3.12.0"
  }
 },
 "nbformat": 4,
 "nbformat_minor": 2
}
