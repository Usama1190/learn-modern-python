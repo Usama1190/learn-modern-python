{
 "cells": [
  {
   "cell_type": "code",
   "execution_count": 1,
   "metadata": {},
   "outputs": [
    {
     "name": "stdout",
     "output_type": "stream",
     "text": [
      "name\n"
     ]
    }
   ],
   "source": [
    "print(\"name\")    # name print successfully"
   ]
  },
  {
   "cell_type": "code",
   "execution_count": 2,
   "metadata": {},
   "outputs": [
    {
     "ename": "NameError",
     "evalue": "name 'name' is not defined",
     "output_type": "error",
     "traceback": [
      "\u001b[31m---------------------------------------------------------------------------\u001b[39m",
      "\u001b[31mNameError\u001b[39m                                 Traceback (most recent call last)",
      "\u001b[36mCell\u001b[39m\u001b[36m \u001b[39m\u001b[32mIn[2]\u001b[39m\u001b[32m, line 1\u001b[39m\n\u001b[32m----> \u001b[39m\u001b[32m1\u001b[39m \u001b[38;5;28mprint\u001b[39m(\u001b[43mname\u001b[49m)      \u001b[38;5;66;03m# error occurced here because name is undefined\u001b[39;00m\n",
      "\u001b[31mNameError\u001b[39m: name 'name' is not defined"
     ]
    }
   ],
   "source": [
    "print(name)      # error occurced here because name is undefined"
   ]
  },
  {
   "cell_type": "code",
   "execution_count": 3,
   "metadata": {},
   "outputs": [
    {
     "name": "stdout",
     "output_type": "stream",
     "text": [
      "name\n"
     ]
    }
   ],
   "source": [
    "name: str = 'usama'\n",
    "print('name')"
   ]
  },
  {
   "cell_type": "markdown",
   "metadata": {},
   "source": [
    "# String Data type in python"
   ]
  },
  {
   "cell_type": "code",
   "execution_count": 4,
   "metadata": {},
   "outputs": [
    {
     "name": "stdout",
     "output_type": "stream",
     "text": [
      "<class 'str'>\n",
      "Usama Israr\n"
     ]
    }
   ],
   "source": [
    "# boundries\n",
    "# 'string text' , \"string text\" , '''string text''' , \"\"\"string text\"\"\"\n",
    "# `string text` type script yaha nahi chalta ye\n",
    "\n",
    "name: str = \"Usama Israr\"\n",
    "print(type(name))\n",
    "print(name)"
   ]
  },
  {
   "cell_type": "code",
   "execution_count": 5,
   "metadata": {},
   "outputs": [
    {
     "ename": "SyntaxError",
     "evalue": "unterminated string literal (detected at line 1) (3443607492.py, line 1)",
     "output_type": "error",
     "traceback": [
      "  \u001b[36mCell\u001b[39m\u001b[36m \u001b[39m\u001b[32mIn[5]\u001b[39m\u001b[32m, line 1\u001b[39m\n\u001b[31m    \u001b[39m\u001b[31mmessage: str = 'PIAIC Student Card \\n father's Name'\u001b[39m\n                                                       ^\n\u001b[31mSyntaxError\u001b[39m\u001b[31m:\u001b[39m unterminated string literal (detected at line 1)\n"
     ]
    }
   ],
   "source": [
    "message: str = 'PIAIC Student Card \\n father's Name'\n",
    "print(message)"
   ]
  },
  {
   "cell_type": "code",
   "execution_count": 6,
   "metadata": {},
   "outputs": [
    {
     "name": "stdout",
     "output_type": "stream",
     "text": [
      "PIAIC Student Card \n",
      " father's Name\n"
     ]
    }
   ],
   "source": [
    "message: str = \"PIAIC Student Card \\n father's Name\"\n",
    "print(message)"
   ]
  },
  {
   "cell_type": "code",
   "execution_count": 7,
   "metadata": {},
   "outputs": [
    {
     "name": "stdout",
     "output_type": "stream",
     "text": [
      "PIAIC \"Student Card\" \n",
      " father Name\n"
     ]
    }
   ],
   "source": [
    "message: str = 'PIAIC \"Student Card\" \\n father Name'\n",
    "print(message)"
   ]
  },
  {
   "cell_type": "code",
   "execution_count": 8,
   "metadata": {},
   "outputs": [
    {
     "name": "stdout",
     "output_type": "stream",
     "text": [
      "PIAIC Student Card \n",
      " father's Name\n"
     ]
    }
   ],
   "source": [
    "# convert any special character into simple character, place \\ before character\n",
    "message: str = 'PIAIC Student Card \\n father\\'s Name'\n",
    "print(message)"
   ]
  },
  {
   "cell_type": "code",
   "execution_count": 9,
   "metadata": {},
   "outputs": [],
   "source": [
    "message: str = \"PIAIC Student Card \\n father's Name\""
   ]
  },
  {
   "cell_type": "code",
   "execution_count": 10,
   "metadata": {},
   "outputs": [
    {
     "name": "stdout",
     "output_type": "stream",
     "text": [
      "<class 'str'>\n",
      "Usama Israr\n"
     ]
    }
   ],
   "source": [
    "# boundries\n",
    "# 'string text' , \"string text\" , '''string text''' , \"\"\"string text\"\"\"\n",
    "# `string text` type script yaha nahi chalta ye\n",
    "\n",
    "name: str = 'Usama Israr'\n",
    "print(type(name))\n",
    "print(name)"
   ]
  },
  {
   "cell_type": "markdown",
   "metadata": {},
   "source": [
    "### Concatenation"
   ]
  },
  {
   "cell_type": "code",
   "execution_count": 11,
   "metadata": {},
   "outputs": [
    {
     "data": {
      "text/plain": [
       "'abc'"
      ]
     },
     "execution_count": 11,
     "metadata": {},
     "output_type": "execute_result"
    }
   ],
   "source": [
    "\"a\" + \"b\" + \"c\""
   ]
  },
  {
   "cell_type": "code",
   "execution_count": 13,
   "metadata": {},
   "outputs": [
    {
     "ename": "TypeError",
     "evalue": "can only concatenate str (not \"int\") to str",
     "output_type": "error",
     "traceback": [
      "\u001b[31m---------------------------------------------------------------------------\u001b[39m",
      "\u001b[31mTypeError\u001b[39m                                 Traceback (most recent call last)",
      "\u001b[36mCell\u001b[39m\u001b[36m \u001b[39m\u001b[32mIn[13]\u001b[39m\u001b[32m, line 1\u001b[39m\n\u001b[32m----> \u001b[39m\u001b[32m1\u001b[39m \u001b[33;43m\"\u001b[39;49m\u001b[33;43ma\u001b[39;49m\u001b[33;43m\"\u001b[39;49m\u001b[43m \u001b[49m\u001b[43m+\u001b[49m\u001b[43m \u001b[49m\u001b[32;43m7\u001b[39;49m\n\u001b[32m      2\u001b[39m \u001b[33m\"\u001b[39m\u001b[33ma\u001b[39m\u001b[33m\"\u001b[39m + \u001b[33m\"\u001b[39m\u001b[33m7\u001b[39m\u001b[33m\"\u001b[39m\n\u001b[32m      3\u001b[39m \u001b[33m\"\u001b[39m\u001b[33ma\u001b[39m\u001b[33m\"\u001b[39m + \u001b[38;5;28mstr\u001b[39m(\u001b[32m7\u001b[39m)\n",
      "\u001b[31mTypeError\u001b[39m: can only concatenate str (not \"int\") to str"
     ]
    }
   ],
   "source": [
    "\"a\" + 7\n",
    "\"a\" + \"7\"\n",
    "\"a\" + str(7)"
   ]
  },
  {
   "cell_type": "code",
   "execution_count": 12,
   "metadata": {},
   "outputs": [
    {
     "name": "stdout",
     "output_type": "stream",
     "text": [
      "PIAIC Student Card \n",
      "Student Name: Usama Israr\n",
      "Age: 23\n"
     ]
    }
   ],
   "source": [
    "# boundries\n",
    "# 'string text' , \"string text\" , '''string text''' , \"\"\"string text\"\"\"\n",
    "# `string text` type script yaha nahi chalta ye\n",
    "\n",
    "name: str = 'Usama Israr'\n",
    "fname: str = \"Muhammad Israr\"\n",
    "education: str = \"Master in Data Science\"\n",
    "age: int = 23\n",
    "\n",
    "card: str = \"PIAIC Student Card \\nStudent Name: \" + name + \"\\nAge: \" + str(age)\n",
    "\n",
    "print(card)"
   ]
  },
  {
   "cell_type": "code",
   "execution_count": 14,
   "metadata": {},
   "outputs": [
    {
     "name": "stdout",
     "output_type": "stream",
     "text": [
      "17\n"
     ]
    }
   ],
   "source": [
    "print(7 + 8 + 2)"
   ]
  },
  {
   "cell_type": "markdown",
   "metadata": {},
   "source": [
    "# \"\\\" line continue"
   ]
  },
  {
   "cell_type": "code",
   "execution_count": 15,
   "metadata": {},
   "outputs": [
    {
     "name": "stdout",
     "output_type": "stream",
     "text": [
      "17\n"
     ]
    }
   ],
   "source": [
    "print(7 + \\\n",
    "      8 + \\\n",
    "        2)"
   ]
  },
  {
   "cell_type": "code",
   "execution_count": 16,
   "metadata": {},
   "outputs": [
    {
     "name": "stdout",
     "output_type": "stream",
     "text": [
      "PIAIC Student Card \n",
      "Student Name: Usama Israr\n",
      "Age: 23\n",
      "EducationMaster in Data Science\n"
     ]
    }
   ],
   "source": [
    "# boundries\n",
    "# 'string text' , \"string text\" , '''string text''' , \"\"\"string text\"\"\"\n",
    "# `string text` type script yaha nahi chalta ye\n",
    "\n",
    "name: str = 'Usama Israr'\n",
    "fname: str = \"Muhammad Israr\"\n",
    "education: str = \"Master in Data Science\"\n",
    "age: int = 23\n",
    "\n",
    "card: str = \"PIAIC Student Card \\nStudent Name: \" + name +\\\n",
    "      \"\\nAge: \" + str(age) + \"\\n\" + \\\n",
    "      \"Education\" + education\n",
    "\n",
    "print(card)"
   ]
  },
  {
   "cell_type": "markdown",
   "metadata": {},
   "source": [
    "## Define multiline string \"\"\"\"\"\", ''''''"
   ]
  },
  {
   "cell_type": "code",
   "execution_count": 17,
   "metadata": {},
   "outputs": [
    {
     "name": "stdout",
     "output_type": "stream",
     "text": [
      "\n",
      "PIAIC Student Card\n",
      "Student Name: .....\n",
      "Father's Name: .....\n",
      "Age: .....\n",
      "Education: .....\n",
      "\n"
     ]
    }
   ],
   "source": [
    "name: str = 'Usama Israr'\n",
    "fname: str = \"Muhammad Israr\"\n",
    "education: str = \"Master in Data Science\"\n",
    "age: int = 23\n",
    "\n",
    "card: str = \"\"\"\n",
    "PIAIC Student Card\n",
    "Student Name: .....\n",
    "Father's Name: .....\n",
    "Age: .....\n",
    "Education: .....\n",
    "\"\"\"\n",
    "\n",
    "print(card)"
   ]
  },
  {
   "cell_type": "markdown",
   "metadata": {},
   "source": [
    "# f-string python\n",
    "### f-string double quotes"
   ]
  },
  {
   "cell_type": "code",
   "execution_count": 18,
   "metadata": {},
   "outputs": [
    {
     "name": "stdout",
     "output_type": "stream",
     "text": [
      "\n",
      "PIAIC Student Card\n",
      "Student Name: Usama Israr\n",
      "Father's Name: Muhammad Israr\n",
      "Age: 23\n",
      "Education: Master in Data Science\n",
      "\n"
     ]
    }
   ],
   "source": [
    "name: str = 'Usama Israr'\n",
    "fname: str = \"Muhammad Israr\"\n",
    "education: str = \"Master in Data Science\"\n",
    "age: int = 23\n",
    "\n",
    "card: str = f\"\"\"\n",
    "PIAIC Student Card\n",
    "Student Name: {name}\n",
    "Father's Name: {fname}\n",
    "Age: {age}\n",
    "Education: {education}\n",
    "\"\"\"\n",
    "\n",
    "print(card)"
   ]
  },
  {
   "cell_type": "markdown",
   "metadata": {},
   "source": [
    "### f-string single quotes"
   ]
  },
  {
   "cell_type": "code",
   "execution_count": 19,
   "metadata": {},
   "outputs": [
    {
     "name": "stdout",
     "output_type": "stream",
     "text": [
      "\n",
      "PIAIC Student Card\n",
      "Student Name: Usama Israr\n",
      "Father's Name: Muhammad Israr\n",
      "Age: 23\n",
      "Education: Master in Data Science\n",
      "\n"
     ]
    }
   ],
   "source": [
    "name: str = 'Usama Israr'\n",
    "fname: str = \"Muhammad Israr\"\n",
    "education: str = \"Master in Data Science\"\n",
    "age: int = 23\n",
    "\n",
    "card: str = f'''\n",
    "PIAIC Student Card\n",
    "Student Name: {name}\n",
    "Father's Name: {fname}\n",
    "Age: {age}\n",
    "Education: {education}\n",
    "'''\n",
    "\n",
    "print(card)"
   ]
  },
  {
   "cell_type": "markdown",
   "metadata": {},
   "source": [
    "### Back ticks are not compatible in python"
   ]
  },
  {
   "cell_type": "code",
   "execution_count": 20,
   "metadata": {},
   "outputs": [
    {
     "ename": "SyntaxError",
     "evalue": "unterminated string literal (detected at line 9) (2413712598.py, line 9)",
     "output_type": "error",
     "traceback": [
      "  \u001b[36mCell\u001b[39m\u001b[36m \u001b[39m\u001b[32mIn[20]\u001b[39m\u001b[32m, line 9\u001b[39m\n\u001b[31m    \u001b[39m\u001b[31mFather's Name: {fname}\u001b[39m\n          ^\n\u001b[31mSyntaxError\u001b[39m\u001b[31m:\u001b[39m unterminated string literal (detected at line 9)\n"
     ]
    }
   ],
   "source": [
    "name: str = 'Usama Israr'\n",
    "fname: str = \"Muhammad Israr\"\n",
    "education: str = \"Master in Data Science\"\n",
    "age: int = 23\n",
    "\n",
    "card: str = `\n",
    "PIAIC Student Card\n",
    "Student Name: {name}\n",
    "Father's Name: {fname}\n",
    "Age: {age}\n",
    "Education: {education}\n",
    "`\n",
    "\n",
    "print(card)"
   ]
  },
  {
   "cell_type": "markdown",
   "metadata": {},
   "source": [
    "### Expression in f-string"
   ]
  },
  {
   "cell_type": "code",
   "execution_count": 21,
   "metadata": {},
   "outputs": [
    {
     "name": "stdout",
     "output_type": "stream",
     "text": [
      "\n",
      "PIAIC Student Card\n",
      "Student Name: Usama Israr\n",
      "Father's Name: Muhammad Israr\n",
      "Age: 23\n",
      "Education: Master in Data Science\n",
      "\n",
      "Total 22\n",
      "\n"
     ]
    }
   ],
   "source": [
    "name: str = 'Usama Israr'\n",
    "fname: str = \"Muhammad Israr\"\n",
    "education: str = \"Master in Data Science\"\n",
    "age: int = 23\n",
    "\n",
    "card: str = f'''\n",
    "PIAIC Student Card\n",
    "Student Name: {name}\n",
    "Father's Name: {fname}\n",
    "Age: {age}\n",
    "Education: {education}\n",
    "\n",
    "Total {2 + 8 + 9 + 3}\n",
    "'''\n",
    "\n",
    "print(card)"
   ]
  },
  {
   "cell_type": "markdown",
   "metadata": {},
   "source": [
    "## F-string and Jinja style"
   ]
  },
  {
   "cell_type": "code",
   "execution_count": 1,
   "metadata": {},
   "outputs": [
    {
     "name": "stdout",
     "output_type": "stream",
     "text": [
      "\n",
      "PIAIC Student Card\n",
      "Student Name: Usama Israr\n",
      "Father's Name: Muhammad Israr\n",
      "Age: 23\n",
      "Education: Master in Data Science\n",
      "\n"
     ]
    }
   ],
   "source": [
    "name: str = 'Usama Israr'\n",
    "fname: str = \"Muhammad Israr\"\n",
    "education: str = \"Master in Data Science\"\n",
    "age: int = 23\n",
    "\n",
    "card: str = f\"\"\"\n",
    "PIAIC Student Card\n",
    "Student Name: %s\n",
    "Father's Name: %s\n",
    "Age: %d\n",
    "Education: %s\n",
    "\"\"\" % (name, fname, age, education)\n",
    "\n",
    "print(card)"
   ]
  },
  {
   "cell_type": "code",
   "execution_count": 22,
   "metadata": {},
   "outputs": [
    {
     "name": "stdout",
     "output_type": "stream",
     "text": [
      "My name is usama israr\n",
      "8\n"
     ]
    }
   ],
   "source": [
    "student_name: str = \"\"\" \n",
    "print('My name is usama israr')\n",
    "a: int = 3\n",
    "b: int = 5\n",
    "\n",
    "print(a + b)\n",
    "\n",
    "\"\"\"\n",
    "exec(student_name)"
   ]
  }
 ],
 "metadata": {
  "kernelspec": {
   "display_name": "Python 3",
   "language": "python",
   "name": "python3"
  },
  "language_info": {
   "codemirror_mode": {
    "name": "ipython",
    "version": 3
   },
   "file_extension": ".py",
   "mimetype": "text/x-python",
   "name": "python",
   "nbconvert_exporter": "python",
   "pygments_lexer": "ipython3",
   "version": "3.13.2"
  }
 },
 "nbformat": 4,
 "nbformat_minor": 2
}
