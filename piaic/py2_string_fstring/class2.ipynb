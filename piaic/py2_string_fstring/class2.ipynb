{
 "cells": [
  {
   "cell_type": "code",
   "execution_count": null,
   "metadata": {},
   "outputs": [
    {
     "ename": "",
     "evalue": "",
     "output_type": "error",
     "traceback": [
      "\u001b[1;31mRunning cells with 'Python 3.13.2' requires the ipykernel package.\n",
      "\u001b[1;31mRun the following command to install 'ipykernel' into the Python environment. \n",
      "\u001b[1;31mCommand: 'c:/Users/Hp/AppData/Local/Programs/Python/Python313/python.exe -m pip install ipykernel -U --user --force-reinstall'"
     ]
    }
   ],
   "source": [
    "print(\"name\")    # name print successfully"
   ]
  },
  {
   "cell_type": "code",
   "execution_count": null,
   "metadata": {},
   "outputs": [],
   "source": [
    "print(name)      # error occurced here because name is undefined"
   ]
  },
  {
   "cell_type": "code",
   "execution_count": null,
   "metadata": {},
   "outputs": [],
   "source": [
    "name: str = 'usama'\n",
    "print('name')"
   ]
  },
  {
   "cell_type": "markdown",
   "metadata": {},
   "source": [
    "# String Data type in python"
   ]
  },
  {
   "cell_type": "code",
   "execution_count": null,
   "metadata": {},
   "outputs": [],
   "source": [
    "# boundries\n",
    "# 'string text' , \"string text\" , '''string text''' , \"\"\"string text\"\"\"\n",
    "# `string text` type script yaha nahi chalta ye\n",
    "\n",
    "name: str = \"Usama Israr\"\n",
    "print(type(name))\n",
    "print(name)"
   ]
  },
  {
   "cell_type": "code",
   "execution_count": null,
   "metadata": {},
   "outputs": [],
   "source": [
    "message: str = 'PIAIC Student Card \\n father's Name'\n",
    "print(message)"
   ]
  },
  {
   "cell_type": "code",
   "execution_count": null,
   "metadata": {},
   "outputs": [],
   "source": [
    "message: str = \"PIAIC Student Card \\n father's Name\"\n",
    "print(message)"
   ]
  },
  {
   "cell_type": "code",
   "execution_count": null,
   "metadata": {},
   "outputs": [],
   "source": [
    "message: str = 'PIAIC \"Student Card\" \\n father Name'\n",
    "print(message)"
   ]
  },
  {
   "cell_type": "code",
   "execution_count": null,
   "metadata": {},
   "outputs": [],
   "source": [
    "# convert any special character into simple character, place \\ before character\n",
    "message: str = 'PIAIC Student Card \\n father\\'s Name'\n",
    "print(message)"
   ]
  },
  {
   "cell_type": "code",
   "execution_count": null,
   "metadata": {},
   "outputs": [],
   "source": [
    "message: str = \"PIAIC Student Card \\n father's Name\""
   ]
  },
  {
   "cell_type": "code",
   "execution_count": null,
   "metadata": {},
   "outputs": [],
   "source": [
    "# boundries\n",
    "# 'string text' , \"string text\" , '''string text''' , \"\"\"string text\"\"\"\n",
    "# `string text` type script yaha nahi chalta ye\n",
    "\n",
    "name: str = 'Usama Israr'\n",
    "print(type(name))\n",
    "print(name)"
   ]
  },
  {
   "cell_type": "markdown",
   "metadata": {},
   "source": [
    "### Concatenation"
   ]
  },
  {
   "cell_type": "code",
   "execution_count": null,
   "metadata": {},
   "outputs": [],
   "source": [
    "\"a\" + \"b\" + \"c\""
   ]
  },
  {
   "cell_type": "code",
   "execution_count": null,
   "metadata": {},
   "outputs": [],
   "source": [
    "\"a\" + 7\n",
    "\"a\" + \"7\"\n",
    "\"a\" + str(7)"
   ]
  },
  {
   "cell_type": "code",
   "execution_count": null,
   "metadata": {},
   "outputs": [],
   "source": [
    "# boundries\n",
    "# 'string text' , \"string text\" , '''string text''' , \"\"\"string text\"\"\"\n",
    "# `string text` type script yaha nahi chalta ye\n",
    "\n",
    "name: str = 'Usama Israr'\n",
    "fname: str = \"Muhammad Israr\"\n",
    "education: str = \"Master in Data Science\"\n",
    "age: int = 23\n",
    "\n",
    "card: str = \"PIAIC Student Card \\nStudent Name: \" + name + \"\\nAge: \" + str(age)\n",
    "\n",
    "print(card)"
   ]
  },
  {
   "cell_type": "code",
   "execution_count": null,
   "metadata": {},
   "outputs": [],
   "source": [
    "print(7 + 8 + 2)"
   ]
  },
  {
   "cell_type": "markdown",
   "metadata": {},
   "source": [
    "# \"\\\" line continue"
   ]
  },
  {
   "cell_type": "code",
   "execution_count": null,
   "metadata": {},
   "outputs": [],
   "source": [
    "print(7 + \\\n",
    "      8 + \\\n",
    "        2)"
   ]
  },
  {
   "cell_type": "code",
   "execution_count": null,
   "metadata": {},
   "outputs": [],
   "source": [
    "# boundries\n",
    "# 'string text' , \"string text\" , '''string text''' , \"\"\"string text\"\"\"\n",
    "# `string text` type script yaha nahi chalta ye\n",
    "\n",
    "name: str = 'Usama Israr'\n",
    "fname: str = \"Muhammad Israr\"\n",
    "education: str = \"Master in Data Science\"\n",
    "age: int = 23\n",
    "\n",
    "card: str = \"PIAIC Student Card \\nStudent Name: \" + name +\\\n",
    "      \"\\nAge: \" + str(age) + \"\\n\" + \\\n",
    "      \"Education\" + education\n",
    "\n",
    "print(card)"
   ]
  },
  {
   "cell_type": "markdown",
   "metadata": {},
   "source": [
    "## Define multiline string \"\"\"\"\"\", ''''''"
   ]
  },
  {
   "cell_type": "code",
   "execution_count": null,
   "metadata": {},
   "outputs": [],
   "source": [
    "name: str = 'Usama Israr'\n",
    "fname: str = \"Muhammad Israr\"\n",
    "education: str = \"Master in Data Science\"\n",
    "age: int = 23\n",
    "\n",
    "card: str = \"\"\"\n",
    "PIAIC Student Card\n",
    "Student Name: .....\n",
    "Father's Name: .....\n",
    "Age: .....\n",
    "Education: .....\n",
    "\"\"\"\n",
    "\n",
    "print(card)"
   ]
  },
  {
   "cell_type": "markdown",
   "metadata": {},
   "source": [
    "# f-string python"
   ]
  },
  {
   "cell_type": "code",
   "execution_count": null,
   "metadata": {},
   "outputs": [],
   "source": [
    "name: str = 'Usama Israr'\n",
    "fname: str = \"Muhammad Israr\"\n",
    "education: str = \"Master in Data Science\"\n",
    "age: int = 23\n",
    "\n",
    "card: str = f\"\"\"\n",
    "PIAIC Student Card\n",
    "Student Name: {name}\n",
    "Father's Name: {fname}\n",
    "Age: {age}\n",
    "Education: {education}\n",
    "\"\"\"\n",
    "\n",
    "print(card)"
   ]
  },
  {
   "cell_type": "code",
   "execution_count": null,
   "metadata": {},
   "outputs": [],
   "source": [
    "name: str = 'Usama Israr'\n",
    "fname: str = \"Muhammad Israr\"\n",
    "education: str = \"Master in Data Science\"\n",
    "age: int = 23\n",
    "\n",
    "card: str = f'''\n",
    "PIAIC Student Card\n",
    "Student Name: {name}\n",
    "Father's Name: {fname}\n",
    "Age: {age}\n",
    "Education: {education}\n",
    "'''\n",
    "\n",
    "print(card)"
   ]
  },
  {
   "cell_type": "code",
   "execution_count": null,
   "metadata": {},
   "outputs": [],
   "source": [
    "name: str = 'Usama Israr'\n",
    "fname: str = \"Muhammad Israr\"\n",
    "education: str = \"Master in Data Science\"\n",
    "age: int = 23\n",
    "\n",
    "card: str = `\n",
    "PIAIC Student Card\n",
    "Student Name: {name}\n",
    "Father's Name: {fname}\n",
    "Age: {age}\n",
    "Education: {education}\n",
    "`\n",
    "\n",
    "print(card)"
   ]
  },
  {
   "cell_type": "code",
   "execution_count": null,
   "metadata": {},
   "outputs": [],
   "source": [
    "name: str = 'Usama Israr'\n",
    "fname: str = \"Muhammad Israr\"\n",
    "education: str = \"Master in Data Science\"\n",
    "age: int = 23\n",
    "\n",
    "card: str = f'''\n",
    "PIAIC Student Card\n",
    "Student Name: {name}\n",
    "Father's Name: {fname}\n",
    "Age: {age}\n",
    "Education: {education}\n",
    "\n",
    "Total {2 + 8 + 9 + 3}\n",
    "'''\n",
    "\n",
    "print(card)"
   ]
  },
  {
   "cell_type": "code",
   "execution_count": null,
   "metadata": {},
   "outputs": [],
   "source": [
    "student_name: str = \"\"\" \n",
    "print('My name is usama israr')\n",
    "a: int = 3\n",
    "b: int = 5\n",
    "\n",
    "print(a + b)\n",
    "\n",
    "\"\"\"\n",
    "exec(student_name)"
   ]
  }
 ],
 "metadata": {
  "kernelspec": {
   "display_name": "Python 3",
   "language": "python",
   "name": "python3"
  },
  "language_info": {
   "codemirror_mode": {
    "name": "ipython",
    "version": 3
   },
   "file_extension": ".py",
   "mimetype": "text/x-python",
   "name": "python",
   "nbconvert_exporter": "python",
   "pygments_lexer": "ipython3",
   "version": "3.13.2"
  }
 },
 "nbformat": 4,
 "nbformat_minor": 2
}
